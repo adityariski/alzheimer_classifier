{
 "cells": [
  {
   "cell_type": "code",
   "execution_count": 2,
   "id": "91894580-1d42-4764-95e3-586a044f2f7b",
   "metadata": {},
   "outputs": [],
   "source": [
    "import os\n",
    "import cv2\n",
    "import numpy as np\n",
    "import matplotlib.pyplot as plt\n",
    "import tensorflow as tf\n",
    "import keras\n",
    "from keras._tf_keras.keras import layers\n",
    "from keras._tf_keras.keras.models import Sequential\n",
    "from keras._tf_keras.keras.layers import Dense,Conv2D,MaxPooling2D,Flatten,Dropout,Input"
   ]
  },
  {
   "cell_type": "code",
   "execution_count": 3,
   "id": "05a4fa5d-45f0-4bc4-ab33-696b6c085a7c",
   "metadata": {},
   "outputs": [],
   "source": [
    "train_dir = \"./dataset/train\"\n",
    "test_dir = \"./dataset/test\"\n",
    "\n",
    "categories = [\"MildDemented\", \"ModerateDemented\", \"NonDemented\", \"VeryMildDemented\"]\n",
    "\n",
    "img_size = (128, 128)\n",
    "batch_size = 8\n",
    "\n",
    "# Proses Data\n",
    "def load_images(folder):\n",
    "    images = []\n",
    "    labels = []\n",
    "    for category in categories:\n",
    "        path = os.path.join(folder, category)\n",
    "        label = categories.index(category)\n",
    "        for img in os.listdir(path):\n",
    "            img_path = os.path.join(path, img)\n",
    "            image = cv2.imread(img_path, cv2.IMREAD_GRAYSCALE)\n",
    "            image = cv2.resize(image, img_size)\n",
    "            images.append(image)\n",
    "            labels.append(label)\n",
    "    return np.array(images), np.array(labels)\n",
    "\n",
    "#x_train, y_train = load_images(train_dir)\n",
    "#x_test, y_test = load_images(test_dir)\n",
    "\n",
    "#x_train = x_train / 255.0\n",
    "#x_test = x_test / 255.0\n",
    "\n",
    "#x_train = x_train.reshape(-1, 128, 128, 1)\n",
    "#x_test = x_test.reshape(-1, 128, 128, 1)\n",
    "\n",
    "#y_train = keras.utils.to_categorical(y_train, 4)\n",
    "#y_test = keras.utils.to_categorical(y_test, 4)\n",
    "\n",
    "#x_train.shape[1:]"
   ]
  },
  {
   "cell_type": "code",
   "execution_count": 4,
   "id": "d6fcbbeb-f243-4a15-99dc-adf432e78ae4",
   "metadata": {},
   "outputs": [],
   "source": [
    "images, labels = load_images(train_dir)\n",
    "images = images / 255.0\n",
    "images = images.reshape(5121,128,128,1)\n",
    "labels = keras.utils.to_categorical(labels)"
   ]
  },
  {
   "cell_type": "code",
   "execution_count": 5,
   "id": "cb027443-c925-40b8-a980-0429fc964fc2",
   "metadata": {},
   "outputs": [
    {
     "data": {
      "text/plain": [
       "(5121, 128, 128, 1)"
      ]
     },
     "execution_count": 5,
     "metadata": {},
     "output_type": "execute_result"
    }
   ],
   "source": [
    "images.shape"
   ]
  },
  {
   "cell_type": "code",
   "execution_count": 6,
   "id": "e1184f67-6928-40e0-b171-abb1d28e7c0d",
   "metadata": {},
   "outputs": [
    {
     "data": {
      "text/plain": [
       "(5121, 4)"
      ]
     },
     "execution_count": 6,
     "metadata": {},
     "output_type": "execute_result"
    }
   ],
   "source": [
    "labels.shape"
   ]
  },
  {
   "cell_type": "code",
   "execution_count": 7,
   "id": "51863dfa-84c5-487b-b41c-7ea4610bf5ff",
   "metadata": {},
   "outputs": [
    {
     "name": "stdout",
     "output_type": "stream",
     "text": [
      "(3840, 128, 128, 1) (1281, 128, 128, 1) (3840, 4) (1281, 4)\n"
     ]
    }
   ],
   "source": [
    "from sklearn.model_selection import train_test_split\n",
    "from sklearn.metrics import confusion_matrix, classification_report\n",
    "from sklearn.metrics import recall_score, accuracy_score, precision_score, f1_score\n",
    "\n",
    "train_data, test_data, train_label, test_label = train_test_split(images,labels,test_size=0.25,random_state=42)\n",
    "print(train_data.shape, test_data.shape, train_label.shape, test_label.shape)"
   ]
  },
  {
   "cell_type": "code",
   "execution_count": 8,
   "id": "e1dfdfe9-133f-43d7-8048-d47294eaa52f",
   "metadata": {},
   "outputs": [
    {
     "data": {
      "text/plain": [
       "(128, 128, 1)"
      ]
     },
     "execution_count": 8,
     "metadata": {},
     "output_type": "execute_result"
    }
   ],
   "source": [
    "train_data.shape[1:]"
   ]
  },
  {
   "cell_type": "code",
   "execution_count": 9,
   "id": "19f9ccaf-ed2f-4417-9e8b-37f288a1ac76",
   "metadata": {},
   "outputs": [],
   "source": [
    "#from keras._tf_keras.keras.preprocessing.image import ImageDataGenerator\n",
    "#\n",
    "#print(\"TRAIN:\")\n",
    "#train_datagen = ImageDataGenerator(rescale=1./255)\n",
    "#train_generator = train_datagen.flow_from_directory(\n",
    "#    train_dir,\n",
    "#    target_size=img_size,\n",
    "#    color_mode=\"grayscale\",\n",
    "#    batch_size=batch_size,\n",
    "#    class_mode=\"sparse\")\n",
    "#\n",
    "#print(\"TEST:\")\n",
    "#test_datagen = ImageDataGenerator(rescale=1./255)\n",
    "#test_generator = test_datagen.flow_from_directory(\n",
    "#    test_dir,\n",
    "#    target_size=img_size,\n",
    "#    color_mode=\"grayscale\",\n",
    "#    batch_size=batch_size,\n",
    "#    class_mode=\"sparse\")"
   ]
  },
  {
   "cell_type": "code",
   "execution_count": 11,
   "id": "1f320902-4abc-4aae-82ef-dfa9f8fbe218",
   "metadata": {},
   "outputs": [
    {
     "data": {
      "text/html": [
       "<pre style=\"white-space:pre;overflow-x:auto;line-height:normal;font-family:Menlo,'DejaVu Sans Mono',consolas,'Courier New',monospace\"><span style=\"font-weight: bold\">Model: \"sequential_1\"</span>\n",
       "</pre>\n"
      ],
      "text/plain": [
       "\u001b[1mModel: \"sequential_1\"\u001b[0m\n"
      ]
     },
     "metadata": {},
     "output_type": "display_data"
    },
    {
     "data": {
      "text/html": [
       "<pre style=\"white-space:pre;overflow-x:auto;line-height:normal;font-family:Menlo,'DejaVu Sans Mono',consolas,'Courier New',monospace\">┏━━━━━━━━━━━━━━━━━━━━━━━━━━━━━━━━━┳━━━━━━━━━━━━━━━━━━━━━━━━┳━━━━━━━━━━━━━━━┓\n",
       "┃<span style=\"font-weight: bold\"> Layer (type)                    </span>┃<span style=\"font-weight: bold\"> Output Shape           </span>┃<span style=\"font-weight: bold\">       Param # </span>┃\n",
       "┡━━━━━━━━━━━━━━━━━━━━━━━━━━━━━━━━━╇━━━━━━━━━━━━━━━━━━━━━━━━╇━━━━━━━━━━━━━━━┩\n",
       "│ conv2d_3 (<span style=\"color: #0087ff; text-decoration-color: #0087ff\">Conv2D</span>)               │ (<span style=\"color: #00d7ff; text-decoration-color: #00d7ff\">None</span>, <span style=\"color: #00af00; text-decoration-color: #00af00\">128</span>, <span style=\"color: #00af00; text-decoration-color: #00af00\">128</span>, <span style=\"color: #00af00; text-decoration-color: #00af00\">64</span>)   │           <span style=\"color: #00af00; text-decoration-color: #00af00\">640</span> │\n",
       "├─────────────────────────────────┼────────────────────────┼───────────────┤\n",
       "│ max_pooling2d_3 (<span style=\"color: #0087ff; text-decoration-color: #0087ff\">MaxPooling2D</span>)  │ (<span style=\"color: #00d7ff; text-decoration-color: #00d7ff\">None</span>, <span style=\"color: #00af00; text-decoration-color: #00af00\">64</span>, <span style=\"color: #00af00; text-decoration-color: #00af00\">64</span>, <span style=\"color: #00af00; text-decoration-color: #00af00\">64</span>)     │             <span style=\"color: #00af00; text-decoration-color: #00af00\">0</span> │\n",
       "├─────────────────────────────────┼────────────────────────┼───────────────┤\n",
       "│ conv2d_4 (<span style=\"color: #0087ff; text-decoration-color: #0087ff\">Conv2D</span>)               │ (<span style=\"color: #00d7ff; text-decoration-color: #00d7ff\">None</span>, <span style=\"color: #00af00; text-decoration-color: #00af00\">64</span>, <span style=\"color: #00af00; text-decoration-color: #00af00\">64</span>, <span style=\"color: #00af00; text-decoration-color: #00af00\">64</span>)     │        <span style=\"color: #00af00; text-decoration-color: #00af00\">36,928</span> │\n",
       "├─────────────────────────────────┼────────────────────────┼───────────────┤\n",
       "│ max_pooling2d_4 (<span style=\"color: #0087ff; text-decoration-color: #0087ff\">MaxPooling2D</span>)  │ (<span style=\"color: #00d7ff; text-decoration-color: #00d7ff\">None</span>, <span style=\"color: #00af00; text-decoration-color: #00af00\">32</span>, <span style=\"color: #00af00; text-decoration-color: #00af00\">32</span>, <span style=\"color: #00af00; text-decoration-color: #00af00\">64</span>)     │             <span style=\"color: #00af00; text-decoration-color: #00af00\">0</span> │\n",
       "├─────────────────────────────────┼────────────────────────┼───────────────┤\n",
       "│ conv2d_5 (<span style=\"color: #0087ff; text-decoration-color: #0087ff\">Conv2D</span>)               │ (<span style=\"color: #00d7ff; text-decoration-color: #00d7ff\">None</span>, <span style=\"color: #00af00; text-decoration-color: #00af00\">32</span>, <span style=\"color: #00af00; text-decoration-color: #00af00\">32</span>, <span style=\"color: #00af00; text-decoration-color: #00af00\">32</span>)     │         <span style=\"color: #00af00; text-decoration-color: #00af00\">8,224</span> │\n",
       "├─────────────────────────────────┼────────────────────────┼───────────────┤\n",
       "│ max_pooling2d_5 (<span style=\"color: #0087ff; text-decoration-color: #0087ff\">MaxPooling2D</span>)  │ (<span style=\"color: #00d7ff; text-decoration-color: #00d7ff\">None</span>, <span style=\"color: #00af00; text-decoration-color: #00af00\">16</span>, <span style=\"color: #00af00; text-decoration-color: #00af00\">16</span>, <span style=\"color: #00af00; text-decoration-color: #00af00\">32</span>)     │             <span style=\"color: #00af00; text-decoration-color: #00af00\">0</span> │\n",
       "├─────────────────────────────────┼────────────────────────┼───────────────┤\n",
       "│ flatten_1 (<span style=\"color: #0087ff; text-decoration-color: #0087ff\">Flatten</span>)             │ (<span style=\"color: #00d7ff; text-decoration-color: #00d7ff\">None</span>, <span style=\"color: #00af00; text-decoration-color: #00af00\">8192</span>)           │             <span style=\"color: #00af00; text-decoration-color: #00af00\">0</span> │\n",
       "├─────────────────────────────────┼────────────────────────┼───────────────┤\n",
       "│ dense_2 (<span style=\"color: #0087ff; text-decoration-color: #0087ff\">Dense</span>)                 │ (<span style=\"color: #00d7ff; text-decoration-color: #00d7ff\">None</span>, <span style=\"color: #00af00; text-decoration-color: #00af00\">100</span>)            │       <span style=\"color: #00af00; text-decoration-color: #00af00\">819,300</span> │\n",
       "├─────────────────────────────────┼────────────────────────┼───────────────┤\n",
       "│ dropout_1 (<span style=\"color: #0087ff; text-decoration-color: #0087ff\">Dropout</span>)             │ (<span style=\"color: #00d7ff; text-decoration-color: #00d7ff\">None</span>, <span style=\"color: #00af00; text-decoration-color: #00af00\">100</span>)            │             <span style=\"color: #00af00; text-decoration-color: #00af00\">0</span> │\n",
       "├─────────────────────────────────┼────────────────────────┼───────────────┤\n",
       "│ dense_3 (<span style=\"color: #0087ff; text-decoration-color: #0087ff\">Dense</span>)                 │ (<span style=\"color: #00d7ff; text-decoration-color: #00d7ff\">None</span>, <span style=\"color: #00af00; text-decoration-color: #00af00\">4</span>)              │           <span style=\"color: #00af00; text-decoration-color: #00af00\">404</span> │\n",
       "└─────────────────────────────────┴────────────────────────┴───────────────┘\n",
       "</pre>\n"
      ],
      "text/plain": [
       "┏━━━━━━━━━━━━━━━━━━━━━━━━━━━━━━━━━┳━━━━━━━━━━━━━━━━━━━━━━━━┳━━━━━━━━━━━━━━━┓\n",
       "┃\u001b[1m \u001b[0m\u001b[1mLayer (type)                   \u001b[0m\u001b[1m \u001b[0m┃\u001b[1m \u001b[0m\u001b[1mOutput Shape          \u001b[0m\u001b[1m \u001b[0m┃\u001b[1m \u001b[0m\u001b[1m      Param #\u001b[0m\u001b[1m \u001b[0m┃\n",
       "┡━━━━━━━━━━━━━━━━━━━━━━━━━━━━━━━━━╇━━━━━━━━━━━━━━━━━━━━━━━━╇━━━━━━━━━━━━━━━┩\n",
       "│ conv2d_3 (\u001b[38;5;33mConv2D\u001b[0m)               │ (\u001b[38;5;45mNone\u001b[0m, \u001b[38;5;34m128\u001b[0m, \u001b[38;5;34m128\u001b[0m, \u001b[38;5;34m64\u001b[0m)   │           \u001b[38;5;34m640\u001b[0m │\n",
       "├─────────────────────────────────┼────────────────────────┼───────────────┤\n",
       "│ max_pooling2d_3 (\u001b[38;5;33mMaxPooling2D\u001b[0m)  │ (\u001b[38;5;45mNone\u001b[0m, \u001b[38;5;34m64\u001b[0m, \u001b[38;5;34m64\u001b[0m, \u001b[38;5;34m64\u001b[0m)     │             \u001b[38;5;34m0\u001b[0m │\n",
       "├─────────────────────────────────┼────────────────────────┼───────────────┤\n",
       "│ conv2d_4 (\u001b[38;5;33mConv2D\u001b[0m)               │ (\u001b[38;5;45mNone\u001b[0m, \u001b[38;5;34m64\u001b[0m, \u001b[38;5;34m64\u001b[0m, \u001b[38;5;34m64\u001b[0m)     │        \u001b[38;5;34m36,928\u001b[0m │\n",
       "├─────────────────────────────────┼────────────────────────┼───────────────┤\n",
       "│ max_pooling2d_4 (\u001b[38;5;33mMaxPooling2D\u001b[0m)  │ (\u001b[38;5;45mNone\u001b[0m, \u001b[38;5;34m32\u001b[0m, \u001b[38;5;34m32\u001b[0m, \u001b[38;5;34m64\u001b[0m)     │             \u001b[38;5;34m0\u001b[0m │\n",
       "├─────────────────────────────────┼────────────────────────┼───────────────┤\n",
       "│ conv2d_5 (\u001b[38;5;33mConv2D\u001b[0m)               │ (\u001b[38;5;45mNone\u001b[0m, \u001b[38;5;34m32\u001b[0m, \u001b[38;5;34m32\u001b[0m, \u001b[38;5;34m32\u001b[0m)     │         \u001b[38;5;34m8,224\u001b[0m │\n",
       "├─────────────────────────────────┼────────────────────────┼───────────────┤\n",
       "│ max_pooling2d_5 (\u001b[38;5;33mMaxPooling2D\u001b[0m)  │ (\u001b[38;5;45mNone\u001b[0m, \u001b[38;5;34m16\u001b[0m, \u001b[38;5;34m16\u001b[0m, \u001b[38;5;34m32\u001b[0m)     │             \u001b[38;5;34m0\u001b[0m │\n",
       "├─────────────────────────────────┼────────────────────────┼───────────────┤\n",
       "│ flatten_1 (\u001b[38;5;33mFlatten\u001b[0m)             │ (\u001b[38;5;45mNone\u001b[0m, \u001b[38;5;34m8192\u001b[0m)           │             \u001b[38;5;34m0\u001b[0m │\n",
       "├─────────────────────────────────┼────────────────────────┼───────────────┤\n",
       "│ dense_2 (\u001b[38;5;33mDense\u001b[0m)                 │ (\u001b[38;5;45mNone\u001b[0m, \u001b[38;5;34m100\u001b[0m)            │       \u001b[38;5;34m819,300\u001b[0m │\n",
       "├─────────────────────────────────┼────────────────────────┼───────────────┤\n",
       "│ dropout_1 (\u001b[38;5;33mDropout\u001b[0m)             │ (\u001b[38;5;45mNone\u001b[0m, \u001b[38;5;34m100\u001b[0m)            │             \u001b[38;5;34m0\u001b[0m │\n",
       "├─────────────────────────────────┼────────────────────────┼───────────────┤\n",
       "│ dense_3 (\u001b[38;5;33mDense\u001b[0m)                 │ (\u001b[38;5;45mNone\u001b[0m, \u001b[38;5;34m4\u001b[0m)              │           \u001b[38;5;34m404\u001b[0m │\n",
       "└─────────────────────────────────┴────────────────────────┴───────────────┘\n"
      ]
     },
     "metadata": {},
     "output_type": "display_data"
    },
    {
     "data": {
      "text/html": [
       "<pre style=\"white-space:pre;overflow-x:auto;line-height:normal;font-family:Menlo,'DejaVu Sans Mono',consolas,'Courier New',monospace\"><span style=\"font-weight: bold\"> Total params: </span><span style=\"color: #00af00; text-decoration-color: #00af00\">865,496</span> (3.30 MB)\n",
       "</pre>\n"
      ],
      "text/plain": [
       "\u001b[1m Total params: \u001b[0m\u001b[38;5;34m865,496\u001b[0m (3.30 MB)\n"
      ]
     },
     "metadata": {},
     "output_type": "display_data"
    },
    {
     "data": {
      "text/html": [
       "<pre style=\"white-space:pre;overflow-x:auto;line-height:normal;font-family:Menlo,'DejaVu Sans Mono',consolas,'Courier New',monospace\"><span style=\"font-weight: bold\"> Trainable params: </span><span style=\"color: #00af00; text-decoration-color: #00af00\">865,496</span> (3.30 MB)\n",
       "</pre>\n"
      ],
      "text/plain": [
       "\u001b[1m Trainable params: \u001b[0m\u001b[38;5;34m865,496\u001b[0m (3.30 MB)\n"
      ]
     },
     "metadata": {},
     "output_type": "display_data"
    },
    {
     "data": {
      "text/html": [
       "<pre style=\"white-space:pre;overflow-x:auto;line-height:normal;font-family:Menlo,'DejaVu Sans Mono',consolas,'Courier New',monospace\"><span style=\"font-weight: bold\"> Non-trainable params: </span><span style=\"color: #00af00; text-decoration-color: #00af00\">0</span> (0.00 B)\n",
       "</pre>\n"
      ],
      "text/plain": [
       "\u001b[1m Non-trainable params: \u001b[0m\u001b[38;5;34m0\u001b[0m (0.00 B)\n"
      ]
     },
     "metadata": {},
     "output_type": "display_data"
    }
   ],
   "source": [
    "def build_model():\n",
    "    inputs = keras.Input(shape=(128, 128, 1))\n",
    "    x = layers.Conv2D(64, (3, 3), padding=\"same\", activation=\"relu\")(inputs)\n",
    "    x = layers.MaxPooling2D((2, 2))(x)\n",
    "    x = layers.Conv2D(64, (3, 3), padding=\"same\", activation=\"relu\")(x)\n",
    "    x = layers.MaxPooling2D((2, 2))(x)\n",
    "    x = layers.Conv2D(32, (2, 2), padding=\"same\", activation=\"relu\")(x)\n",
    "    x = layers.MaxPooling2D((2, 2))(x)\n",
    "    x = layers.Flatten()(x)\n",
    "    x = layers.Dense(100, activation=\"relu\")(x)\n",
    "    x = layers.Dropout(0.5)(x)\n",
    "    outputs = layers.Dense(4, activation=\"softmax\")(x)\n",
    "    model = keras.Model(inputs, outputs)\n",
    "    model.compile(optimizer=\"adam\", loss=\"categorical_crossentropy\", metrics=[\"accuracy\"])\n",
    "    return model\n",
    "\n",
    "def build_model_alt1():\n",
    "    cnn = Sequential()\n",
    "    cnn.add(Conv2D(64,(3,3), padding=\"same\", activation=\"relu\", input_shape=(128, 128, 1)))\n",
    "    cnn.add(MaxPooling2D())\n",
    "    cnn.add(Conv2D(64,(3,3), padding=\"same\", activation=\"relu\"))\n",
    "    cnn.add(MaxPooling2D())\n",
    "    cnn.add(Conv2D(32,(2,2), padding=\"same\", activation=\"relu\"))\n",
    "    cnn.add(MaxPooling2D())\n",
    "    cnn.add(Flatten())\n",
    "    cnn.add(Dense(100,activation=\"relu\"))\n",
    "    cnn.add(Dropout(0.5))\n",
    "    cnn.add(Dense(4,activation=\"softmax\"))\n",
    "    cnn.compile(optimizer=\"adam\", loss=\"categorical_crossentropy\", metrics=[\"accuracy\"])\n",
    "    return cnn\n",
    "    \n",
    "def build_model_alt2():\n",
    "    inputs = keras.Input(shape=(128, 128, 1))\n",
    "    x = layers.Conv2D(32, (3, 3), activation=\"relu\")(inputs)\n",
    "    x = layers.MaxPooling2D()(x)\n",
    "    x = layers.Conv2D(64, (3, 3), activation=\"relu\")(x)\n",
    "    x = layers.MaxPooling2D()(x)\n",
    "    x = layers.Conv2D(128, (3, 3), activation=\"relu\")(x)\n",
    "    x = layers.MaxPooling2D()(x)\n",
    "    x = layers.Flatten()(x)\n",
    "    x = layers.Dense(128, activation=\"relu\")(x)\n",
    "    x = layers.Dropout(0.5)(x)\n",
    "    outputs = layers.Dense(4, activation=\"softmax\")(x)\n",
    "    model = keras.Model(inputs, outputs)\n",
    "    model.compile(optimizer=\"adam\", loss=\"categorical_crossentropy\", metrics=[\"accuracy\"])\n",
    "    return model\n",
    "\n",
    "cnn = build_model_alt1()\n",
    "cnn.summary()"
   ]
  },
  {
   "cell_type": "code",
   "execution_count": 12,
   "id": "3d369a64-d8b0-471a-979b-6d4f4732b054",
   "metadata": {},
   "outputs": [
    {
     "name": "stdout",
     "output_type": "stream",
     "text": [
      "Epoch 1/10\n"
     ]
    },
    {
     "name": "stderr",
     "output_type": "stream",
     "text": [
      "2025-03-19 16:33:10.537882: W external/local_xla/xla/tsl/framework/cpu_allocator_impl.cc:83] Allocation of 251658240 exceeds 10% of free system memory.\n"
     ]
    },
    {
     "name": "stdout",
     "output_type": "stream",
     "text": [
      "\u001b[1m480/480\u001b[0m \u001b[32m━━━━━━━━━━━━━━━━━━━━\u001b[0m\u001b[37m\u001b[0m \u001b[1m191s\u001b[0m 395ms/step - accuracy: 0.4837 - loss: 1.0786 - val_accuracy: 0.5566 - val_loss: 0.9664\n",
      "Epoch 2/10\n",
      "\u001b[1m480/480\u001b[0m \u001b[32m━━━━━━━━━━━━━━━━━━━━\u001b[0m\u001b[37m\u001b[0m \u001b[1m191s\u001b[0m 399ms/step - accuracy: 0.5513 - loss: 0.9224 - val_accuracy: 0.5535 - val_loss: 0.9152\n",
      "Epoch 3/10\n",
      "\u001b[1m480/480\u001b[0m \u001b[32m━━━━━━━━━━━━━━━━━━━━\u001b[0m\u001b[37m\u001b[0m \u001b[1m191s\u001b[0m 398ms/step - accuracy: 0.5869 - loss: 0.8656 - val_accuracy: 0.5902 - val_loss: 0.8344\n",
      "Epoch 4/10\n",
      "\u001b[1m480/480\u001b[0m \u001b[32m━━━━━━━━━━━━━━━━━━━━\u001b[0m\u001b[37m\u001b[0m \u001b[1m191s\u001b[0m 398ms/step - accuracy: 0.5895 - loss: 0.8138 - val_accuracy: 0.6237 - val_loss: 0.7776\n",
      "Epoch 5/10\n",
      "\u001b[1m480/480\u001b[0m \u001b[32m━━━━━━━━━━━━━━━━━━━━\u001b[0m\u001b[37m\u001b[0m \u001b[1m201s\u001b[0m 396ms/step - accuracy: 0.6502 - loss: 0.7175 - val_accuracy: 0.6261 - val_loss: 0.6920\n",
      "Epoch 6/10\n",
      "\u001b[1m480/480\u001b[0m \u001b[32m━━━━━━━━━━━━━━━━━━━━\u001b[0m\u001b[37m\u001b[0m \u001b[1m191s\u001b[0m 399ms/step - accuracy: 0.6919 - loss: 0.6462 - val_accuracy: 0.7307 - val_loss: 0.5876\n",
      "Epoch 7/10\n",
      "\u001b[1m480/480\u001b[0m \u001b[32m━━━━━━━━━━━━━━━━━━━━\u001b[0m\u001b[37m\u001b[0m \u001b[1m192s\u001b[0m 401ms/step - accuracy: 0.7307 - loss: 0.5500 - val_accuracy: 0.8056 - val_loss: 0.4908\n",
      "Epoch 8/10\n",
      "\u001b[1m480/480\u001b[0m \u001b[32m━━━━━━━━━━━━━━━━━━━━\u001b[0m\u001b[37m\u001b[0m \u001b[1m194s\u001b[0m 404ms/step - accuracy: 0.7768 - loss: 0.4650 - val_accuracy: 0.7908 - val_loss: 0.4558\n",
      "Epoch 9/10\n",
      "\u001b[1m480/480\u001b[0m \u001b[32m━━━━━━━━━━━━━━━━━━━━\u001b[0m\u001b[37m\u001b[0m \u001b[1m199s\u001b[0m 415ms/step - accuracy: 0.8216 - loss: 0.4105 - val_accuracy: 0.8493 - val_loss: 0.4233\n",
      "Epoch 10/10\n",
      "\u001b[1m480/480\u001b[0m \u001b[32m━━━━━━━━━━━━━━━━━━━━\u001b[0m\u001b[37m\u001b[0m \u001b[1m210s\u001b[0m 437ms/step - accuracy: 0.8559 - loss: 0.3246 - val_accuracy: 0.8673 - val_loss: 0.3608\n"
     ]
    }
   ],
   "source": [
    "early_stopping = tf.keras.callbacks.EarlyStopping(monitor = \"val_loss\", mode = \"min\", verbose = 1, patience = 4)\n",
    "history=cnn.fit(train_data, train_label, epochs=10, validation_data=(test_data, test_label), batch_size=8)"
   ]
  },
  {
   "cell_type": "code",
   "execution_count": 13,
   "id": "d636c188-e5e9-40da-8b54-f4380e1368be",
   "metadata": {},
   "outputs": [
    {
     "data": {
      "image/png": "[encoded data removed]",
      "text/plain": [
       "<Figure size 640x480 with 1 Axes>"
      ]
     },
     "metadata": {},
     "output_type": "display_data"
    }
   ],
   "source": [
    "plt.plot(history.history[\"accuracy\"])\n",
    "plt.plot(history.history[\"val_accuracy\"])\n",
    "plt.title(\"Model Accuracy\")\n",
    "plt.ylabel(\"Accuracy\")\n",
    "plt.xlabel(\"Epoch\")\n",
    "plt.legend([\"Train\", \"Validation\"], loc = \"lower right\")\n",
    "plt.show()"
   ]
  },
  {
   "cell_type": "code",
   "execution_count": 14,
   "id": "c4a97027-b224-4d1b-9f43-4164f27f4b5a",
   "metadata": {},
   "outputs": [
    {
     "name": "stdout",
     "output_type": "stream",
     "text": [
      "\u001b[1m41/41\u001b[0m \u001b[32m━━━━━━━━━━━━━━━━━━━━\u001b[0m\u001b[37m\u001b[0m \u001b[1m16s\u001b[0m 389ms/step\n",
      "[[165   0  15  24]\n",
      " [  4   7   1   6]\n",
      " [  1   0 601  16]\n",
      " [  3   0 100 338]]\n"
     ]
    }
   ],
   "source": [
    "y_pred=cnn.predict(test_data)\n",
    "y_val=[]\n",
    "for y in y_pred:\n",
    "    y_val.append(np.argmax(y))\n",
    "y_true=[]\n",
    "for y in test_label:\n",
    "    y_true.append(np.argmax(y))\n",
    "print(confusion_matrix(y_true,y_val))"
   ]
  },
  {
   "cell_type": "code",
   "execution_count": 15,
   "id": "1977735e-7545-4b6f-8403-b8ce470d9948",
   "metadata": {},
   "outputs": [
    {
     "name": "stdout",
     "output_type": "stream",
     "text": [
      "\u001b[1m1/1\u001b[0m \u001b[32m━━━━━━━━━━━━━━━━━━━━\u001b[0m\u001b[37m\u001b[0m \u001b[1m0s\u001b[0m 58ms/step\n",
      "NonDemented\n",
      "\u001b[1m1/1\u001b[0m \u001b[32m━━━━━━━━━━━━━━━━━━━━\u001b[0m\u001b[37m\u001b[0m \u001b[1m0s\u001b[0m 50ms/step\n",
      "VeryMildDemented\n"
     ]
    }
   ],
   "source": [
    "from PIL import Image\n",
    "from keras._tf_keras.keras.preprocessing import image\n",
    "\n",
    "def predict_label(img_path):\n",
    "    #i = Image.open(img_path).convert(\"L\")\n",
    "    i = cv2.imread(img_path, cv2.IMREAD_GRAYSCALE)\n",
    "    i = cv2.resize(i, img_size)\n",
    "    i = image.img_to_array(i) / 255.0\n",
    "    i = i.reshape(-1,128,128,1)\n",
    "    \n",
    "    predict_x = cnn.predict(i) \n",
    "    classes_x = np.argmax(predict_x, axis=1)\n",
    "\n",
    "    #return show_image(img_path), Labels[classes_x[0]]\n",
    "    return categories[classes_x[0]]\n",
    "\n",
    "print(predict_label(\"dataset/test/NonDemented/26.jpg\"))\n",
    "print(predict_label(\"dataset/test/VeryMildDemented/32 (10).jpg\"))"
   ]
  },
  {
   "cell_type": "code",
   "execution_count": 16,
   "id": "1f1b97cc-41e2-4995-adbc-9547234f7f91",
   "metadata": {},
   "outputs": [
    {
     "data": {
      "image/png": "[encoded data removed]",
      "text/plain": [
       "<Figure size 640x480 with 2 Axes>"
      ]
     },
     "metadata": {},
     "output_type": "display_data"
    }
   ],
   "source": [
    "import seaborn as sns\n",
    "cm = confusion_matrix(y_true,y_val)\n",
    "Labels = [\"NonDemented\", \"VeryMildDemented\", \"MildDemented\", \"ModerateDemented\"]\n",
    "plt.figure(figsize=(8, 6), dpi=80, facecolor=\"w\", edgecolor=\"k\")\n",
    "ax = sns.heatmap(cm, cmap=\"Blues\", annot=True, fmt=\"d\", xticklabels=Labels, yticklabels=Labels)\n",
    "plt.title(\"Alzheimer\\'s Disease Diagnosis\")\n",
    "plt.xlabel(\"Prediction\")\n",
    "plt.ylabel(\"Truth\")\n",
    "plt.show(ax)"
   ]
  },
  {
   "cell_type": "code",
   "execution_count": 17,
   "id": "dd40d31f-919d-40b5-8f2a-fbf3ac5367d3",
   "metadata": {},
   "outputs": [
    {
     "name": "stdout",
     "output_type": "stream",
     "text": [
      "Classification Report\n",
      "\n",
      "              precision    recall  f1-score   support\n",
      "\n",
      "           0       0.95      0.81      0.88       204\n",
      "           1       1.00      0.39      0.56        18\n",
      "           2       0.84      0.97      0.90       618\n",
      "           3       0.88      0.77      0.82       441\n",
      "\n",
      "    accuracy                           0.87      1281\n",
      "   macro avg       0.92      0.73      0.79      1281\n",
      "weighted avg       0.87      0.87      0.86      1281\n",
      "\n"
     ]
    }
   ],
   "source": [
    "print(\"Classification Report\\n\")\n",
    "print(classification_report(y_true, y_val))"
   ]
  },
  {
   "cell_type": "code",
   "execution_count": 19,
   "id": "1e1b32c4-89df-45a2-b1f8-4655f08dd460",
   "metadata": {},
   "outputs": [
    {
     "name": "stdout",
     "output_type": "stream",
     "text": [
      "Accuracy on test data:  0.8672911787665886\n"
     ]
    }
   ],
   "source": [
    "print(\"Accuracy on test data: \", accuracy_score(y_true, y_val))"
   ]
  },
  {
   "cell_type": "code",
   "execution_count": 20,
   "id": "74a9444a-d700-43c2-ae5c-148f8f4f631b",
   "metadata": {},
   "outputs": [],
   "source": [
    "#cnn.save(\"alzheimer_model.h5\")\n",
    "cnn.save(\"alzheimer_model.keras\")"
   ]
  },
  {
   "cell_type": "code",
   "execution_count": null,
   "id": "1ca1e07b-49c3-4526-bb65-9a850556bd9f",
   "metadata": {},
   "outputs": [],
   "source": []
  }
 ],
 "metadata": {
  "kernelspec": {
   "display_name": "python_alz",
   "language": "python",
   "name": "python_alz"
  },
  "language_info": {
   "codemirror_mode": {
    "name": "ipython",
    "version": 3
   },
   "file_extension": ".py",
   "mimetype": "text/x-python",
   "name": "python",
   "nbconvert_exporter": "python",
   "pygments_lexer": "ipython3",
   "version": "3.10.16"
  }
 },
 "nbformat": 4,
 "nbformat_minor": 5
}
